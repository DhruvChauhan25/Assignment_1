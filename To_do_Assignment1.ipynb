{
 "cells": [
  {
   "cell_type": "markdown",
   "id": "0a32e505",
   "metadata": {},
   "source": [
    "# ASSIGNMENT-1"
   ]
  },
  {
   "cell_type": "markdown",
   "id": "99c7eb9e",
   "metadata": {},
   "source": [
    "1. In the below elements which of them are values or an expression? eg:- values can be\n",
    "integer or string and expressions will be mathematical operators.\n",
    "*\n",
    "&#39;hello&#39;\n",
    "-87.8\n",
    "-\n",
    "/\n",
    "+\n",
    "6"
   ]
  },
  {
   "cell_type": "code",
   "execution_count": null,
   "id": "6ce57323",
   "metadata": {},
   "outputs": [],
   "source": [
    "values='hello',-87.8,6\n",
    "operators=+,/,*,-\n"
   ]
  },
  {
   "cell_type": "markdown",
   "id": "82b6b316",
   "metadata": {},
   "source": [
    "2. What is the difference between string and variable?"
   ]
  },
  {
   "cell_type": "code",
   "execution_count": null,
   "id": "88e7be36",
   "metadata": {},
   "outputs": [],
   "source": [
    "The variables are the symbols that is used to store data in a program\n",
    "The String are the data which is used to fill up the variable."
   ]
  },
  {
   "cell_type": "markdown",
   "id": "8f71c551",
   "metadata": {},
   "source": [
    "3.Describe three different data types."
   ]
  },
  {
   "cell_type": "code",
   "execution_count": null,
   "id": "6fda1480",
   "metadata": {},
   "outputs": [],
   "source": [
    "The three types of data types are-\n",
    "1- String Data type is used to store data in a variable and it should be written in inverted comma's.example-\"Hello\",'Hello'\n",
    "2- Integer data type is used to store number in a variable except decimal values. example a=45.\n",
    "3- Boolean data type which shows the output in true or false only.\n"
   ]
  },
  {
   "cell_type": "markdown",
   "id": "13d58df3",
   "metadata": {},
   "source": [
    "4. What is an expression made up of? What do all expressions do?"
   ]
  },
  {
   "cell_type": "code",
   "execution_count": null,
   "id": "f8362f53",
   "metadata": {},
   "outputs": [],
   "source": [
    "An expression is a combination of values and operators. All expressions evaluate to a single value"
   ]
  },
  {
   "cell_type": "markdown",
   "id": "a0fb44cf",
   "metadata": {},
   "source": [
    "This assignment statements, like spam = 10. What is the difference between an\n",
    "expression and a statement?"
   ]
  },
  {
   "cell_type": "code",
   "execution_count": null,
   "id": "8ceaf73b",
   "metadata": {},
   "outputs": [],
   "source": [
    "An expression evaluates  to a single value. A statement does not."
   ]
  },
  {
   "cell_type": "markdown",
   "id": "9265701c",
   "metadata": {},
   "source": [
    "6. After running the following code, what does the variable bacon contain?\n",
    "bacon = 22\n",
    "bacon + 1"
   ]
  },
  {
   "cell_type": "code",
   "execution_count": 2,
   "id": "3078e5dd",
   "metadata": {},
   "outputs": [],
   "source": [
    "output=23"
   ]
  },
  {
   "cell_type": "markdown",
   "id": "a8f4f536",
   "metadata": {},
   "source": [
    "7. What should the values of the following two terms be?\n",
    "&#39;spam&#39; + &#39;spamspam&#39;\n",
    "&#39;spam&#39; * 3"
   ]
  },
  {
   "cell_type": "code",
   "execution_count": null,
   "id": "5526b008",
   "metadata": {},
   "outputs": [],
   "source": [
    "The output will be same in both the cases\n",
    "output-1= 'spamspamspam'\n",
    "output-2= 'spamspamspam'"
   ]
  },
  {
   "cell_type": "markdown",
   "id": "883833ef",
   "metadata": {},
   "source": [
    "8. Why is eggs a valid variable name while 100 is invalid?"
   ]
  },
  {
   "cell_type": "code",
   "execution_count": null,
   "id": "e546b594",
   "metadata": {},
   "outputs": [],
   "source": [
    "Egg is valid variable and 100 is not because variable name cannot start with a number"
   ]
  },
  {
   "cell_type": "markdown",
   "id": "8d3896c6",
   "metadata": {},
   "source": [
    "9. What three functions can be used to get the integer, floating-point number, or string\n",
    "version of a value?"
   ]
  },
  {
   "cell_type": "code",
   "execution_count": null,
   "id": "9a1791aa",
   "metadata": {},
   "outputs": [],
   "source": [
    "The int(), float(), and str() functions will evaluate to the integer, floating-point number, \n",
    "and string versions of the value passed to them."
   ]
  },
  {
   "cell_type": "markdown",
   "id": "1efc5831",
   "metadata": {},
   "source": [
    "10. Why does this expression cause an error? How can you fix it?\n",
    "&#39;I have eaten &#39; + 99 + &#39; burritos.&#39;"
   ]
  },
  {
   "cell_type": "code",
   "execution_count": null,
   "id": "d6935564",
   "metadata": {},
   "outputs": [],
   "source": [
    "The expression causes an error because 99 is an integer, and only strings can be concatenated to other strings \n",
    "with the + operator. The correct way is I have eaten ' + str(99) + ' burritos.'."
   ]
  }
 ],
 "metadata": {
  "kernelspec": {
   "display_name": "Python 3 (ipykernel)",
   "language": "python",
   "name": "python3"
  },
  "language_info": {
   "codemirror_mode": {
    "name": "ipython",
    "version": 3
   },
   "file_extension": ".py",
   "mimetype": "text/x-python",
   "name": "python",
   "nbconvert_exporter": "python",
   "pygments_lexer": "ipython3",
   "version": "3.9.7"
  }
 },
 "nbformat": 4,
 "nbformat_minor": 5
}
